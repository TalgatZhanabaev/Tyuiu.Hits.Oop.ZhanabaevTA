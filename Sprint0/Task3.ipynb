{
 "cells": [
  {
   "cell_type": "markdown",
   "metadata": {},
   "source": [
    "<h1 style=\"color:DodgerBlue\">Индивидальный проект</h1>"
   ]
  },
  {
   "cell_type": "markdown",
   "metadata": {},
   "source": [
    "<h2 style=\"color:DodgerBlue\">Название проекта:</h2>\n",
    "\n",
    "----\n",
    "\n",
    "### Вариант задания № 5\n"
   ]
  },
  {
   "cell_type": "markdown",
   "metadata": {},
   "source": [
    "<h2 style=\"color:DodgerBlue\">Описание проекта:</h2>\n",
    "\n",
    "----\n",
    "\n",
    "Создать базовый класс Book в C#, который будет представлять информацию о \n",
    "книгах. На основе этого класса разработать 2-3 производных класса, \n",
    "демонстрирующих принципы наследования и полиморфизма. В каждом из классов \n",
    "должны быть реализованы новые атрибуты и методы, а также переопределены \n",
    "некоторые методы базового класса для демонстрации полиморфизма. \n",
    "Требования к базовому классу Book: \n",
    "- Атрибуты: Название (Title), Автор (Author), Год издания (YearOfPublication). \n",
    "- Методы:\n",
    "    - GetInfo(): метод для получения информации о книге в виде строки. \n",
    "    - Read(): метод для вывода сообщения о чтении книги. \n",
    "    - Borrow(): метод для вывода сообщения о выдаче книги на чтение.\n",
    "\n",
    "Требования к производным классам:\n",
    "1. Учебник (Textbook): Должен содержать дополнительные атрибуты, такие как \n",
    "Предмет (Subject). Метод Read() должен быть переопределен для \n",
    "добавления информации о предмете при чтении учебника. \n",
    "2. Художественная литература (Fiction): Должен содержать дополнительные \n",
    "атрибуты, такие как Жанр (Genre). Метод Borrow() должен быть \n",
    "переопределен для добавления информации о жанре при выдаче книги на \n",
    "чтение. \n",
    "3. Научная литература (ScientificLiterature) (если требуется третий класс): \n",
    "Должен содержать дополнительные атрибуты, такие как Область науки \n",
    "(FieldOfScience). Метод GetInfo() должен быть переопределен для включения \n",
    "информации об области науки в описании книги. \n"
   ]
  },
  {
   "cell_type": "markdown",
   "metadata": {},
   "source": [
    "<h2 style=\"color:DodgerBlue\">Реализация:</h2>\n",
    "\n",
    "----"
   ]
  },
  {
   "cell_type": "code",
   "execution_count": 5,
   "metadata": {
    "dotnet_interactive": {
     "language": "csharp"
    },
    "polyglot_notebook": {
     "kernelName": "csharp"
    }
   },
   "outputs": [
    {
     "name": "stdout",
     "output_type": "stream",
     "text": [
      "=== Информация о книге ===\n",
      "Название: Алгебра, Автор: Иванов, Год издания: 2020\n",
      "Чтение: Изучение учебника по предмету 'Математика': Алгебра\n",
      "Выдача: Выдача книги: Алгебра\n",
      "\n",
      "=== Информация о книге ===\n",
      "Название: 1984, Автор: Оруэлл, Год издания: 1949\n",
      "Чтение: Чтение книги: 1984\n",
      "Выдача: Выдача художественной книги в жанре 'Антиутопия': 1984\n",
      "\n",
      "=== Информация о книге ===\n",
      "Название: Квантовая физика, Автор: Хокинг, Год издания: 2015, Область науки: Физика\n",
      "Чтение: Чтение книги: Квантовая физика\n",
      "Выдача: Выдача книги: Квантовая физика\n",
      "\n"
     ]
    }
   ],
   "source": [
    "public class Book\n",
    "{\n",
    "    public string Title { get; set; }\n",
    "    public string Author { get; set; }\n",
    "    public int YearOfPublication { get; set; }\n",
    "\n",
    "    public Book(string title, string author, int yearOfPublication)\n",
    "    {\n",
    "        Title = title;\n",
    "        Author = author;\n",
    "        YearOfPublication = yearOfPublication;\n",
    "    }\n",
    "\n",
    "    public virtual string GetInfo()\n",
    "    {\n",
    "        return $\"Название: {Title}, Автор: {Author}, Год издания: {YearOfPublication}\";\n",
    "    }\n",
    "\n",
    "    public virtual void Read()\n",
    "    {\n",
    "        Console.WriteLine($\"Чтение книги: {Title}\");\n",
    "    }\n",
    "\n",
    "    public virtual void Borrow()\n",
    "    {\n",
    "        Console.WriteLine($\"Выдача книги: {Title}\");\n",
    "    }\n",
    "}\n",
    "\n",
    "public class Textbook : Book\n",
    "{\n",
    "    public string Subject { get; set; }\n",
    "\n",
    "    public Textbook(string title, string author, int yearOfPublication, string subject) : base(title, author, yearOfPublication)\n",
    "    {\n",
    "        Subject = subject;\n",
    "    }\n",
    "\n",
    "    public override void Read()\n",
    "    {\n",
    "        Console.WriteLine($\"Изучение учебника по предмету '{Subject}': {Title}\");\n",
    "    }\n",
    "}\n",
    "\n",
    "public class Fiction : Book\n",
    "{\n",
    "    public string Genre { get; set; }\n",
    "\n",
    "    public Fiction(string title, string author, int yearOfPublication, string genre)\n",
    "        : base(title, author, yearOfPublication)\n",
    "    {\n",
    "        Genre = genre;\n",
    "    }\n",
    "\n",
    "    public override void Borrow()\n",
    "    {\n",
    "        Console.WriteLine($\"Выдача художественной книги в жанре '{Genre}': {Title}\");\n",
    "    }\n",
    "}\n",
    "\n",
    "public class ScientificLiterature : Book\n",
    "{\n",
    "    public string FieldOfScience { get; set; }\n",
    "\n",
    "    public ScientificLiterature(string title, string author, int yearOfPublication, string fieldOfScience)\n",
    "        : base(title, author, yearOfPublication)\n",
    "    {\n",
    "        FieldOfScience = fieldOfScience;\n",
    "    }\n",
    "\n",
    "    public override string GetInfo()\n",
    "    {\n",
    "        return base.GetInfo() + $\", Область науки: {FieldOfScience}\";\n",
    "    }\n",
    "}\n",
    "\n",
    "\n",
    "Book[] books = {\n",
    "            new Textbook(\"Алгебра\", \"Иванов\", 2020, \"Математика\"),\n",
    "            new Fiction(\"1984\", \"Оруэлл\", 1949, \"Антиутопия\"),\n",
    "            new ScientificLiterature(\"Квантовая физика\", \"Хокинг\", 2015, \"Физика\")\n",
    "};\n",
    "\n",
    "foreach (var book in books)\n",
    "{\n",
    "    Console.WriteLine(\"=== Информация о книге ===\");\n",
    "    Console.WriteLine(book.GetInfo());\n",
    "    \n",
    "    Console.Write(\"Чтение: \");\n",
    "    book.Read();\n",
    "    \n",
    "    Console.Write(\"Выдача: \");\n",
    "    book.Borrow();\n",
    "    \n",
    "    Console.WriteLine();\n",
    "};"
   ]
  }
 ],
 "metadata": {
  "kernelspec": {
   "display_name": ".NET (C#)",
   "language": "C#",
   "name": ".net-csharp"
  },
  "polyglot_notebook": {
   "kernelInfo": {
    "defaultKernelName": "csharp",
    "items": [
     {
      "aliases": [],
      "languageName": "csharp",
      "name": "csharp"
     }
    ]
   }
  }
 },
 "nbformat": 4,
 "nbformat_minor": 2
}
